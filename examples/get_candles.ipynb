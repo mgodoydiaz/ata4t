{
 "cells": [
  {
   "cell_type": "markdown",
   "metadata": {},
   "source": [
    "# Get Candles example\n",
    "\n",
    "This notebook shows how to import with XTB and xStation5 API the candles of a specific instrument.\n",
    "\n"
   ]
  },
  {
   "cell_type": "code",
   "execution_count": null,
   "metadata": {},
   "outputs": [
    {
     "name": "stdout",
     "output_type": "stream",
     "text": [
      "17443744 atx7nzC3EtuxMiG\n"
     ]
    },
    {
     "name": "stderr",
     "output_type": "stream",
     "text": [
      "[2025-02-09 18:10:24,414][connect:74] Socket connected\n",
      "[2025-02-09 18:10:24,414][_waitingSend:88] Sent: b'{\"command\": \"login\", \"arguments\": {\"userId\": \"17443744\", \"password\": \"atx7nzC3EtuxMiG\", \"appName\": \"\"}}'\n",
      "[2025-02-09 18:10:24,917][_read:107] Received: {'status': True, 'streamSessionId': '005056fffeb96ad7-00262399-00fd4c21-ac6fcd9401f8812f-e2ff604a'}\n"
     ]
    }
   ],
   "source": [
    "# Import libraries\n",
    "\n",
    "#import pandas as pd\n",
    "import os\n",
    "import ata4t\n",
    "\n",
    "\n",
    "\n",
    "\"\"\"\n",
    "from sklearn.model_selection import train_test_split\n",
    "from sklearn.preprocessing import StandardScaler\n",
    "from sklearn.ensemble import RandomForestClassifier\n",
    "from sklearn.metrics import confusion_matrix, accuracy_score\n",
    "from sklearn.metrics import classification_report\n",
    "\"\"\";\n",
    "\n",
    "\n",
    "\n",
    "\n",
    "# Load credentials\n",
    "credentials_file = os.path.join(ata4t.ATA4T_PATH, '..', 'credentials.json')\n",
    "credentials = ata4t.file_tools.read_credentials(credentials_file)\n",
    "userId, password = credentials['userID'], credentials['password']\n",
    "\n",
    "# Login to the XTB API\n",
    "client, streamSession = ata4t.connection_tools.login(userId, password)\n",
    "\n"
   ]
  },
  {
   "cell_type": "code",
   "execution_count": null,
   "metadata": {},
   "outputs": [],
   "source": []
  }
 ],
 "metadata": {
  "kernelspec": {
   "display_name": "Python 3",
   "language": "python",
   "name": "python3"
  },
  "language_info": {
   "codemirror_mode": {
    "name": "ipython",
    "version": 3
   },
   "file_extension": ".py",
   "mimetype": "text/x-python",
   "name": "python",
   "nbconvert_exporter": "python",
   "pygments_lexer": "ipython3",
   "version": "3.12.8"
  }
 },
 "nbformat": 4,
 "nbformat_minor": 2
}
